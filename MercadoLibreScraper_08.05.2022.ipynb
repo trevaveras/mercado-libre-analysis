{
 "cells": [
  {
   "cell_type": "markdown",
   "metadata": {},
   "source": [
    "### Scraping MercadoLibre smartphone listings:\n",
    "An analysis of e-commerce listings and sales of smartphones in Peru\n",
    "\n",
    "### Notes:\n",
    "#### Ideas:\n",
    "1. Expand to other markets to do a comparative analysis\n",
    "2. Compare a rich and a poor country\n",
    "3. This would involve currency conversion\n",
    "\n",
    "#### Business case:\n",
    "* A Chilean entrepreneur wants to enter the Peruvian smartphone market.\n",
    "* Which sellers and products are most successful? \n",
    "* Which features are most important to consumers? \n",
    "* (Maybe, how is the Peruvian market different from the Chilean market?)"
   ]
  },
  {
   "cell_type": "code",
   "execution_count": 171,
   "metadata": {},
   "outputs": [],
   "source": [
    "from bs4 import BeautifulSoup\n",
    "import requests\n",
    "import numpy as np\n",
    "import time\n",
    "\n",
    "headers={'User-Agent':\n",
    "'Mozilla/5.0 (Macintosh; Intel Mac OS X 10_15_7) AppleWebKit/537.36 (KHTML, like Gecko) Chrome/103.0.0.0 Safari/537.36'}\n"
   ]
  },
  {
   "cell_type": "markdown",
   "metadata": {},
   "source": [
    "### Part 1: scrape the URLs for the listings that we will use later"
   ]
  },
  {
   "cell_type": "code",
   "execution_count": 2,
   "metadata": {},
   "outputs": [],
   "source": [
    "# create response object\n",
    "response = requests.get('https://listado.mercadolibre.com.pe/celulares-telefonos/celulares-smartphones', headers = headers)\n"
   ]
  },
  {
   "cell_type": "code",
   "execution_count": 3,
   "metadata": {},
   "outputs": [],
   "source": [
    "# pull the text\n",
    "text = BeautifulSoup(response.content,'html.parser')\n"
   ]
  },
  {
   "cell_type": "code",
   "execution_count": 4,
   "metadata": {},
   "outputs": [
    {
     "data": {
      "text/plain": [
       "53"
      ]
     },
     "execution_count": 4,
     "metadata": {},
     "output_type": "execute_result"
    }
   ],
   "source": [
    "#obtain titles from the products to get number of products per page\n",
    "titles=text.find_all('div', attrs={'class':'ui-search-item__group ui-search-item__group--title'})\n",
    "\n",
    "len(titles)"
   ]
  },
  {
   "cell_type": "code",
   "execution_count": 6,
   "metadata": {},
   "outputs": [
    {
     "data": {
      "text/plain": [
       "<div class=\"ui-search-item__group ui-search-item__group--title\"><span class=\"ui-search-item__brand-discoverability ui-search-item__group__element\"></span><a class=\"ui-search-item__group__element ui-search-link\" href=\"https://articulo.mercadolibre.com.pe/MPE-607311001-xiaomi-redmi-note-11-4gb-128gb-original-tienda-oficial-_JM?searchVariation=174390642601#searchVariation=174390642601&amp;position=2&amp;search_layout=stack&amp;type=item&amp;tracking_id=77df895c-6854-4f2d-8a20-d4a43a730418\" title=\"Xiaomi Redmi Note 11 4gb-128gb Original - Tienda Oficial\"><h2 class=\"ui-search-item__title\">Xiaomi Redmi Note 11 4gb-128gb Original - Tienda Oficial</h2></a><a class=\"ui-search-official-store-item__link ui-search-link\" href=\"https://tienda.mercadolibre.com.pe/xiaomi\"><p class=\"ui-search-official-store-label ui-search-item__group__element ui-search-color--GRAY\">Vendido por Xiaomi</p></a></div>"
      ]
     },
     "execution_count": 6,
     "metadata": {},
     "output_type": "execute_result"
    }
   ],
   "source": [
    "# examine the title\n",
    "titles[1]"
   ]
  },
  {
   "cell_type": "code",
   "execution_count": 7,
   "metadata": {
    "scrolled": true
   },
   "outputs": [
    {
     "name": "stdout",
     "output_type": "stream",
     "text": [
      "['https://articulo.mercadolibre.com.pe/MPE-609274773-poco-m4-pro-8gb-ram-256gb-rom-_JM?searchVariation=174440426312#searchVariation=174440426312&position=5&search_layout=stack&type=item&tracking_id=77df895c-6854-4f2d-8a20-d4a43a730418']\n"
     ]
    }
   ],
   "source": [
    "# strip urls and put into a list of URLs we can iterate over\n",
    "phone_urls=[tag.find('a').get('href') for tag in titles]\n",
    "print(phone_urls[4:5])"
   ]
  },
  {
   "cell_type": "code",
   "execution_count": 10,
   "metadata": {},
   "outputs": [],
   "source": [
    "# create a list of results pages from which we can individual enter product listing pages\n",
    "results_pages = [f'https://listado.mercadolibre.com.pe/celulares-telefonos/celulares-smartphones/_Desde_{i}_NoIndex_True' for i in range(1,2001,50)]\n"
   ]
  },
  {
   "cell_type": "code",
   "execution_count": 26,
   "metadata": {},
   "outputs": [
    {
     "data": {
      "text/plain": [
       "['https://listado.mercadolibre.com.pe/celulares-telefonos/celulares-smartphones/_Desde_1_NoIndex_True']"
      ]
     },
     "execution_count": 26,
     "metadata": {},
     "output_type": "execute_result"
    }
   ],
   "source": [
    "# examine the results page list\n",
    "results_pages[:1]"
   ]
  },
  {
   "cell_type": "markdown",
   "metadata": {},
   "source": [
    "### Part 2: identify the data we will scrape from each individual listing"
   ]
  },
  {
   "cell_type": "code",
   "execution_count": 39,
   "metadata": {},
   "outputs": [],
   "source": [
    "# explore the individual product listing to obtain the fields we want to scrape\n",
    "response=requests.get('https://articulo.mercadolibre.com.pe/MPE-609274773-poco-m4-pro-8gb-ram-256gb-rom-_JM?searchVariation=174440426312#searchVariation=174440426312&position=5&search_layout=stack&type=item&tracking_id=77df895c-6854-4f2d-8a20-d4a43a730418', \n",
    "                      headers=headers)\n",
    "text= BeautifulSoup(response.text, 'html.parser')"
   ]
  },
  {
   "cell_type": "code",
   "execution_count": 40,
   "metadata": {},
   "outputs": [
    {
     "name": "stdout",
     "output_type": "stream",
     "text": [
      "Poco M4 Pro 8gb Ram 256gb Rom\n"
     ]
    }
   ],
   "source": [
    "#title of item from item page\n",
    "title = text.find('div', attrs = {'class':'ui-pdp-header__title-container'}).find('h1').string\n",
    "print(title)"
   ]
  },
  {
   "cell_type": "code",
   "execution_count": 78,
   "metadata": {},
   "outputs": [],
   "source": [
    "#This helps to scrape sellers pages\n",
    "\n",
    "response2=requests.get('https://perfil.mercadolibre.com.pe/IXCOMERCIO+PERU?brandId=159', \n",
    "                      headers=headers)\n",
    "text2= BeautifulSoup(response2.text, 'html.parser')\n"
   ]
  },
  {
   "cell_type": "code",
   "execution_count": 96,
   "metadata": {},
   "outputs": [
    {
     "name": "stdout",
     "output_type": "stream",
     "text": [
      "227\n",
      "<span class=\"buyers-feedback-qualification\" id=\"feedback_good\">Buena<!-- --> (<!-- -->193<!-- -->)</span>\n"
     ]
    }
   ],
   "source": [
    "# obtain total store reviews and good store reviews from linked sellers pages\n",
    "store_reviews=text2.find('section',{'class':'buyers-feedback-section'}).find('span').string\n",
    "print(store_reviews)\n",
    "good_str_reviews=text2.find('span',{'id':'feedback_good', 'class':'buyers-feedback-qualification'})\n",
    "print(good_str_reviews)\n"
   ]
  },
  {
   "cell_type": "code",
   "execution_count": 64,
   "metadata": {
    "scrolled": true
   },
   "outputs": [
    {
     "name": "stdout",
     "output_type": "stream",
     "text": [
      "929 soles\n",
      "(88 disponibles)\n",
      "Nuevo  |  242 vendidos\n",
      "https://perfil.mercadolibre.com.pe/IXCOMERCIO+PERU?brandId=159\n",
      "3424\n",
      "#609274773\n",
      "(43)\n"
     ]
    }
   ],
   "source": [
    "# here we identify the standard fields we want from the individual product listings\n",
    "\n",
    "#actual price (with potential discount accounted for)\n",
    "price_in_soles=text.find('span',attrs={'class':'andes-money-amount ui-pdp-price__part andes-money-amount--cents-superscript andes-money-amount--compact'}).find('span').string\n",
    "print(price_in_soles)\n",
    "#number available\n",
    "available = text.find('span',attrs={'class':'ui-pdp-buybox__quantity__available'}).string\n",
    "print(available)\n",
    "#new or used\n",
    "newstatus_sales=text.find('span',attrs={'class':'ui-pdp-subtitle'}).string\n",
    "print(newstatus_sales)\n",
    "#publication number bottom right corner\n",
    "#seller id\n",
    "seller_id = text.find('div', {'class':'ui-box-component-pdp__visible--desktop'}).find('a').get('href')\n",
    "print(seller_id)\n",
    "#seller sales\n",
    "seller_sales = text.find('strong', {'class':'ui-pdp-seller__sales-description'}).string\n",
    "print(seller_sales)\n",
    "# page id\n",
    "page_id= text.find('span',{'class':'ui-pdp-color--BLACK ui-pdp-family--SEMIBOLD'}).string\n",
    "print(page_id)\n",
    "#number of ratings\n",
    "ratings=text.find('span',{'class':'ui-pdp-review__amount'}).string\n",
    "print(ratings)\n",
    "\n",
    "# product rating\n",
    "product_rating=text.find('header',{'class':'ui-review-view__header'}).find('p').string\n",
    "\n",
    "#Try to get other seller details from product page\n",
    "seller_svc_level=text.find('div',{'class':'ui-seller-info'}).find('ul').get('value')\n",
    "\n"
   ]
  },
  {
   "cell_type": "markdown",
   "metadata": {},
   "source": [
    "### Bringing the code together to execute the scraping:\n",
    "#### Step 1: scrape the URLS of the individual product listings"
   ]
  },
  {
   "cell_type": "code",
   "execution_count": 1,
   "metadata": {},
   "outputs": [],
   "source": [
    "from bs4 import BeautifulSoup\n",
    "import requests\n",
    "headers= {'User-Agent':\n",
    "'Mozilla/5.0 (Macintosh; Intel Mac OS X 10_15_7) AppleWebKit/537.36 (KHTML, like Gecko) Chrome/103.0.0.0 Safari/537.36'}\n",
    "\n",
    "results_pages = [f'https://listado.mercadolibre.com.pe/celulares-telefonos/celulares-smartphones/_Desde_{i}_NoIndex_True' for i in range(1,2001,50)]\n",
    "\n",
    "phone_page_urls=[]\n",
    "\n",
    "for url in results_pages:\n",
    "    response = requests.get(url, headers = headers)\n",
    "    text = BeautifulSoup(response.content,'html.parser')\n",
    "    \n",
    "    if response.status_code!=200:\n",
    "        raise Exception(f'The status code is not 200! It is {response.status_code}.')\n",
    "        \n",
    "    titles=text.find_all('div', attrs={'class':'ui-search-result__image'})\n",
    "    phone_urls=[tag.find('a').get('href') for tag in titles]\n",
    "    \n",
    "    phone_page_urls.extend(phone_urls)\n"
   ]
  },
  {
   "cell_type": "code",
   "execution_count": 88,
   "metadata": {
    "scrolled": true
   },
   "outputs": [
    {
     "name": "stdout",
     "output_type": "stream",
     "text": [
      "2114\n",
      "['https://articulo.mercadolibre.com.pe/MPE-444989657-apple-iphone-xs-256gb-libre-reacondicionado-silver-_JM?searchVariation=82237523651#searchVariation=82237523651&position=36&search_layout=stack&type=item&tracking_id=9fd0252b-37cd-4c06-89ac-41799045edc3', 'https://articulo.mercadolibre.com.pe/MPE-602012973-celular-nuevo-smooth-bommer-teclado-grande-marcacion-rapida-_JM?searchVariation=173764271353#searchVariation=173764271353&position=37&search_layout=stack&type=item&tracking_id=9fd0252b-37cd-4c06-89ac-41799045edc3', 'https://articulo.mercadolibre.com.pe/MPE-611805118-xiaomi-poco-f4-gt-global-12gb-ram-256gb-120w-stock-_JM?searchVariation=174462962758#searchVariation=174462962758&position=38&search_layout=stack&type=item&tracking_id=9fd0252b-37cd-4c06-89ac-41799045edc3']\n"
     ]
    }
   ],
   "source": [
    "print(len(phone_page_urls))\n",
    "print(phone_page_urls[589:592])"
   ]
  },
  {
   "cell_type": "markdown",
   "metadata": {},
   "source": [
    "#### Step 2: Scrape the individual product listings"
   ]
  },
  {
   "cell_type": "code",
   "execution_count": 76,
   "metadata": {},
   "outputs": [],
   "source": [
    "phone_list=[]\n",
    "\n",
    "for url in phone_page_urls:\n",
    "        phone_dict={}\n",
    "        \n",
    "        response=requests.get(url,headers=headers)\n",
    "        text=BeautifulSoup(response.text, 'html.parser')\n",
    "        \n",
    "        if response.status_code != 200:\n",
    "            raise Exception(f'The status code is not 200! It is {response.status_code}.')   \n",
    "        \n",
    "        try:\n",
    "            #get title\n",
    "            title = text.find('div', attrs = {'class':'ui-pdp-header__title-container'}).find('h1').string\n",
    "        except:\n",
    "            title=np.nan\n",
    "        \n",
    "        try:\n",
    "            # page id\n",
    "            page_id= text.find('span',{'class':'ui-pdp-color--BLACK ui-pdp-family--SEMIBOLD'}).string\n",
    "        except:\n",
    "            page_id=np.nan\n",
    "        \n",
    "        try:\n",
    "            #get price\n",
    "            price_in_soles=text.find('span',attrs={'class':'andes-money-amount ui-pdp-price__part andes-money-amount--cents-superscript andes-money-amount--compact'}).find('span').string\n",
    "        except:\n",
    "            price_in_soles=np.nan\n",
    "        \n",
    "        try:\n",
    "            #new or used\n",
    "            newstatus_sales=text.find('span',attrs={'class':'ui-pdp-subtitle'}).string\n",
    "        except:\n",
    "            newstatus_sales=np.nan\n",
    "        \n",
    "        try:\n",
    "            #number available\n",
    "            total_units_available = text.find('span',attrs={'class':'ui-pdp-buybox__quantity__available'}).string\n",
    "        except:\n",
    "            total_units_available=np.nan\n",
    "        \n",
    "        try:\n",
    "            #actual product rating\n",
    "            product_rating=text.find('header',{'class':'ui-review-view__header'}).find('p').string\n",
    "        except:\n",
    "            product_rating=np.nan\n",
    "        \n",
    "        try:\n",
    "            #number of ratings\n",
    "            total_product_ratings=text.find('span',{'class':'ui-pdp-review__amount'}).string\n",
    "        except:\n",
    "            total_product_ratings=np.nan\n",
    "        \n",
    "        try:\n",
    "            #seller id\n",
    "            seller_id = text.find('div', {'class':'ui-box-component-pdp__visible--desktop'}).find('a').get('href')\n",
    "        except:\n",
    "            seller_id=np.nan\n",
    "        \n",
    "        try:\n",
    "            #seller sales\n",
    "            total_seller_sales = text.find('strong', {'class':'ui-pdp-seller__sales-description'}).string\n",
    "        except:\n",
    "            total_seller_sales=np.nan\n",
    "        \n",
    "        try:\n",
    "            #seller service level 1-5\n",
    "            seller_svc_level=text.find('div',{'class':'ui-seller-info'}).find('ul').get('value')\n",
    "        except:\n",
    "            seller_svc_level=np.nan\n",
    "            \n",
    "        \n",
    "        #store info in dictionary\n",
    "        phone_dict['title']=title\n",
    "        phone_dict['page_id']=page_id\n",
    "        phone_dict['price_in_soles']=price_in_soles\n",
    "        phone_dict['newstatus_sales']=newstatus_sales\n",
    "        phone_dict['total_units_available']=total_units_available\n",
    "        phone_dict['product_rating']=product_rating\n",
    "        phone_dict['total_product_ratings']=total_product_ratings\n",
    "        \n",
    "        phone_dict['seller_id']=seller_id\n",
    "        phone_dict['total_seller_sales']=total_seller_sales\n",
    "        phone_dict['seller_svc_level']=seller_svc_level\n",
    "        \n",
    "\n",
    "        \n",
    "        #add dictionary to list\n",
    "        phone_list.append(phone_dict)\n",
    "        "
   ]
  },
  {
   "cell_type": "code",
   "execution_count": 1,
   "metadata": {},
   "outputs": [
    {
     "ename": "NameError",
     "evalue": "name 'phone_list' is not defined",
     "output_type": "error",
     "traceback": [
      "\u001b[0;31m---------------------------------------------------------------------------\u001b[0m",
      "\u001b[0;31mNameError\u001b[0m                                 Traceback (most recent call last)",
      "\u001b[0;32m<ipython-input-1-1a8e68d02cef>\u001b[0m in \u001b[0;36m<module>\u001b[0;34m\u001b[0m\n\u001b[0;32m----> 1\u001b[0;31m \u001b[0mphone_list\u001b[0m\u001b[0;34m[\u001b[0m\u001b[0;36m1\u001b[0m\u001b[0;34m]\u001b[0m\u001b[0;34m\u001b[0m\u001b[0;34m\u001b[0m\u001b[0m\n\u001b[0m",
      "\u001b[0;31mNameError\u001b[0m: name 'phone_list' is not defined"
     ]
    }
   ],
   "source": [
    "# examine the product listing data\n",
    "phone_list[1]"
   ]
  },
  {
   "cell_type": "markdown",
   "metadata": {},
   "source": [
    "#### Step 3: Scrape the sellers page URLs"
   ]
  },
  {
   "cell_type": "code",
   "execution_count": 124,
   "metadata": {},
   "outputs": [],
   "source": [
    "#obtain just a list of seller URLs\n",
    "seller_list=[]\n",
    "\n",
    "for url in phone_page_urls:\n",
    "    \n",
    "    seller_dict={}\n",
    "        \n",
    "    response=requests.get(url,headers=headers)\n",
    "    text=BeautifulSoup(response.text, 'html.parser')\n",
    "        \n",
    "    if response.status_code != 200:\n",
    "        raise Exception(f'The status code is not 200! It is {response.status_code}.')   \n",
    "          \n",
    "    try:\n",
    "            \n",
    "        seller_id = text.find('div', {'class':'ui-box-component-pdp__visible--desktop'}).find('a').get('href')\n",
    "    except:\n",
    "        seller_id='missing!'\n",
    "            \n",
    "            \n",
    "    seller_dict['seller_id']=seller_id\n",
    "    seller_list.append(seller_dict)\n",
    "\n",
    "#create a set of seller urls and then iterate over that\n",
    "seller_urls=[val for i in seller_list for val in i.values()]\n",
    "seller_unique_urls=set(seller_urls)"
   ]
  },
  {
   "cell_type": "markdown",
   "metadata": {},
   "source": [
    "#### Step 4: Scrape the two pieces of data from the sellers' pages"
   ]
  },
  {
   "cell_type": "code",
   "execution_count": 172,
   "metadata": {
    "scrolled": true
   },
   "outputs": [],
   "source": [
    "#scrape the two key data points from the seller pages\n",
    "\n",
    "seller_data=[]\n",
    "\n",
    "for url in seller_unique_urls:\n",
    "        seller_dict={}\n",
    "        url=url\n",
    "        seller_dict['url']=url\n",
    "        if url=='missing!':\n",
    "            continue\n",
    "            \n",
    "        else:\n",
    "            \n",
    "\n",
    "        #obtain information from the linked seller page\n",
    "        \n",
    "            response2=requests.get(url,headers=headers)\n",
    "            text2=BeautifulSoup(response2.text, 'html.parser')\n",
    "        \n",
    "            if response2.status_code != 200:\n",
    "                #raise Exception(f'The status code for seller page is not 200! It is {response2.status_code}.') \n",
    "                time.sleep(3)\n",
    "        \n",
    "            try:\n",
    "            \n",
    "                #number of store reviews   \n",
    "                store_reviews=text2.find('section',{'class':'buyers-feedback-section'}).find('span').string\n",
    "                #number of good store reviews\n",
    "                good_str_reviews=text2.find('span',{'id':'feedback_good', 'class':'buyers-feedback-qualification'})\n",
    "        \n",
    "            except:\n",
    "                np.nan\n",
    "\n",
    "            \n",
    "            # try to add seller attributes\n",
    "            seller_dict['url']=url\n",
    "            seller_dict['store_reviews']=store_reviews\n",
    "            seller_dict['good_str_reviews']=good_str_reviews\n",
    "\n",
    "            seller_data.append(seller_dict)"
   ]
  },
  {
   "cell_type": "markdown",
   "metadata": {},
   "source": [
    "#### Step 5: Export the sellers' data to one csv"
   ]
  },
  {
   "cell_type": "code",
   "execution_count": 176,
   "metadata": {},
   "outputs": [],
   "source": [
    "#seller_data\n",
    "\n",
    "#this is for exporting cellphone product listing data\n",
    "import csv\n",
    "\n",
    "with open('vendors.csv','w',encoding='utf-8', newline='') as csvfile:\n",
    "    vendor_writer=csv.writer(csvfile)\n",
    "    vendor_writer.writerow(['url',\n",
    "                            'store_reviews',\n",
    "                           'good_str_reviews'])\n",
    "    \n",
    "    for vendor_dict in seller_data:\n",
    "        vendor_writer.writerow(vendor_dict.values())"
   ]
  },
  {
   "cell_type": "markdown",
   "metadata": {},
   "source": [
    "#### Step 6: Export the product listings' data scraped above"
   ]
  },
  {
   "cell_type": "code",
   "execution_count": 81,
   "metadata": {},
   "outputs": [],
   "source": [
    "#this is for exporting cellphone product listing data\n",
    "import csv\n",
    "\n",
    "with open('phones.csv','w',encoding='utf-8', newline='') as csvfile:\n",
    "    phone_writer=csv.writer(csvfile)\n",
    "    phone_writer.writerow(['title',\n",
    "                           'page_id',\n",
    "                           'price_in_soles',\n",
    "                           'newstatus_sales',\n",
    "                           'total_units_available',\n",
    "                           'product_rating',\n",
    "                           'total_product_ratings',\n",
    "                           'seller_id',\n",
    "                           'total_seller_sales',\n",
    "                           'seller_svc_level'])\n",
    "    \n",
    "    for phone_dict in phone_list:\n",
    "        phone_writer.writerow(phone_dict.values())"
   ]
  },
  {
   "cell_type": "markdown",
   "metadata": {},
   "source": [
    "#### Subsequent steps: read the csv files into R and conduct data cleaning and EDA"
   ]
  }
 ],
 "metadata": {
  "kernelspec": {
   "display_name": "Python 3",
   "language": "python",
   "name": "python3"
  },
  "language_info": {
   "codemirror_mode": {
    "name": "ipython",
    "version": 3
   },
   "file_extension": ".py",
   "mimetype": "text/x-python",
   "name": "python",
   "nbconvert_exporter": "python",
   "pygments_lexer": "ipython3",
   "version": "3.8.3"
  }
 },
 "nbformat": 4,
 "nbformat_minor": 4
}
